{
 "cells": [
  {
   "cell_type": "code",
   "execution_count": 1,
   "id": "ed72d38c-fcd1-4ab1-a5c6-3caf04679de2",
   "metadata": {},
   "outputs": [
    {
     "name": "stderr",
     "output_type": "stream",
     "text": [
      "2025-04-28 15:04:49.298077: I external/local_xla/xla/tsl/cuda/cudart_stub.cc:32] Could not find cuda drivers on your machine, GPU will not be used.\n",
      "2025-04-28 15:04:50.990283: I external/local_xla/xla/tsl/cuda/cudart_stub.cc:32] Could not find cuda drivers on your machine, GPU will not be used.\n",
      "2025-04-28 15:04:51.755013: E external/local_xla/xla/stream_executor/cuda/cuda_fft.cc:467] Unable to register cuFFT factory: Attempting to register factory for plugin cuFFT when one has already been registered\n",
      "WARNING: All log messages before absl::InitializeLog() is called are written to STDERR\n",
      "E0000 00:00:1745867092.527492    3935 cuda_dnn.cc:8579] Unable to register cuDNN factory: Attempting to register factory for plugin cuDNN when one has already been registered\n",
      "E0000 00:00:1745867092.701282    3935 cuda_blas.cc:1407] Unable to register cuBLAS factory: Attempting to register factory for plugin cuBLAS when one has already been registered\n",
      "W0000 00:00:1745867094.395903    3935 computation_placer.cc:177] computation placer already registered. Please check linkage and avoid linking the same target more than once.\n",
      "W0000 00:00:1745867094.395930    3935 computation_placer.cc:177] computation placer already registered. Please check linkage and avoid linking the same target more than once.\n",
      "W0000 00:00:1745867094.395933    3935 computation_placer.cc:177] computation placer already registered. Please check linkage and avoid linking the same target more than once.\n",
      "W0000 00:00:1745867094.395934    3935 computation_placer.cc:177] computation placer already registered. Please check linkage and avoid linking the same target more than once.\n",
      "2025-04-28 15:04:54.520103: I tensorflow/core/platform/cpu_feature_guard.cc:210] This TensorFlow binary is optimized to use available CPU instructions in performance-critical operations.\n",
      "To enable the following instructions: AVX2 FMA, in other operations, rebuild TensorFlow with the appropriate compiler flags.\n"
     ]
    }
   ],
   "source": [
    "import sys\n",
    "import os\n",
    "\n",
    "# Get the current working directory (where the notebook is running)\n",
    "SCRIPT_DIR = os.getcwd()  # or use os.path.dirname(os.path.abspath('')) for similar effect\n",
    "sys.path.append(os.path.dirname(SCRIPT_DIR))\n",
    "\n",
    "\n",
    "# Basic\n",
    "import numpy as np\n",
    "import numpy as np\n",
    "def dummy_npwarn_decorator_factory():\n",
    "  def npwarn_decorator(x):\n",
    "    return x\n",
    "  return npwarn_decorator\n",
    "np._no_nep50_warning = getattr(np, '_no_nep50_warning', dummy_npwarn_decorator_factory)\n",
    "import matplotlib.pyplot as plt\n",
    "\n",
    "# Dataset\n",
    "from keras.datasets import mnist\n",
    "\n",
    "# Evaluation\n",
    "from sklearn.metrics import adjusted_rand_score, normalized_mutual_info_score\n",
    "\n",
    "# Your SOM model\n",
    "from som import SOM\n"
   ]
  },
  {
   "cell_type": "code",
   "execution_count": 2,
   "id": "5088a89a-7c43-4b2e-9c5a-824eb68b7f2f",
   "metadata": {},
   "outputs": [
    {
     "name": "stdout",
     "output_type": "stream",
     "text": [
      "Train shape: (60000, 784)\n",
      "Test shape: (10000, 784)\n"
     ]
    }
   ],
   "source": [
    "# Load data\n",
    "(X_train, y_train), (X_test, y_test) = mnist.load_data()\n",
    "\n",
    "# Flatten images from (28,28) to (784,)\n",
    "X_train = X_train.reshape(-1, 28*28).astype(np.float32) / 255.0\n",
    "X_test = X_test.reshape(-1, 28*28).astype(np.float32) / 255.0\n",
    "\n",
    "print(\"Train shape:\", X_train.shape)\n",
    "print(\"Test shape:\", X_test.shape)\n"
   ]
  },
  {
   "cell_type": "code",
   "execution_count": null,
   "id": "6c9014db-ff7e-47e6-8783-c3f1bb58e00c",
   "metadata": {},
   "outputs": [],
   "source": [
    "# Initialize SOM\n",
    "som = SOM(\n",
    "    lattice_rows=5,\n",
    "    lattice_columns=5,\n",
    "    initial_learning_rate=0.5,\n",
    "    neighbourhood_radius=5,\n",
    "    max_iters=100,\n",
    "    learning_rate_type=\"exponential\",\n",
    "    random_state=42,\n",
    "    verbose=True,\n",
    ")\n",
    "\n",
    "# Fit SOM\n",
    "som.fit(X_train)\n"
   ]
  },
  {
   "cell_type": "code",
   "execution_count": null,
   "id": "d18163b8-90be-4f19-bd3d-472b550a0692",
   "metadata": {},
   "outputs": [],
   "source": [
    "# Predict Best Matching Units (BMUs) for train and test\n",
    "train_bmus = som.predict(X_train)\n",
    "test_bmus = som.predict(X_test)\n",
    "\n",
    "print(\"Train BMUs shape:\", train_bmus.shape)\n",
    "print(\"Test BMUs shape:\", test_bmus.shape)\n"
   ]
  },
  {
   "cell_type": "code",
   "execution_count": null,
   "id": "2e0dfdbe-b82a-44d6-b8de-ba3dcd3f6c18",
   "metadata": {},
   "outputs": [],
   "source": [
    "# As SOM gives (row, col), we can map it to a single integer cluster ID\n",
    "def bmu_to_cluster_id(bmus, n_cols):\n",
    "    return np.array([row * n_cols + col for row, col in bmus])\n",
    "\n",
    "train_clusters = bmu_to_cluster_id(train_bmus, som.lattice_columns)\n",
    "test_clusters = bmu_to_cluster_id(test_bmus, som.lattice_columns)\n",
    "\n",
    "# Evaluate\n",
    "print(\"Train Adjusted Rand Index:\", adjusted_rand_score(y_train, train_clusters))\n",
    "print(\"Test Adjusted Rand Index:\", adjusted_rand_score(y_test, test_clusters))\n",
    "\n",
    "print(\"Train Normalized Mutual Information:\", normalized_mutual_info_score(y_train, train_clusters))\n",
    "print(\"Test Normalized Mutual Information:\", normalized_mutual_info_score(y_test, test_clusters))\n"
   ]
  },
  {
   "cell_type": "code",
   "execution_count": null,
   "id": "687b3155-276d-4408-a272-1f06589b5748",
   "metadata": {},
   "outputs": [],
   "source": []
  }
 ],
 "metadata": {
  "kernelspec": {
   "display_name": "Python 3 (ipykernel)",
   "language": "python",
   "name": "python3"
  },
  "language_info": {
   "codemirror_mode": {
    "name": "ipython",
    "version": 3
   },
   "file_extension": ".py",
   "mimetype": "text/x-python",
   "name": "python",
   "nbconvert_exporter": "python",
   "pygments_lexer": "ipython3",
   "version": "3.12.9"
  }
 },
 "nbformat": 4,
 "nbformat_minor": 5
}
