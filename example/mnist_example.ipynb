{
 "cells": [
  {
   "cell_type": "code",
   "execution_count": 1,
   "id": "ed72d38c-fcd1-4ab1-a5c6-3caf04679de2",
   "metadata": {},
   "outputs": [
    {
     "name": "stderr",
     "output_type": "stream",
     "text": [
      "2025-04-28 15:48:47.260313: E external/local_xla/xla/stream_executor/cuda/cuda_fft.cc:467] Unable to register cuFFT factory: Attempting to register factory for plugin cuFFT when one has already been registered\n",
      "WARNING: All log messages before absl::InitializeLog() is called are written to STDERR\n",
      "E0000 00:00:1745869727.365876 3329821 cuda_dnn.cc:8579] Unable to register cuDNN factory: Attempting to register factory for plugin cuDNN when one has already been registered\n",
      "E0000 00:00:1745869727.400907 3329821 cuda_blas.cc:1407] Unable to register cuBLAS factory: Attempting to register factory for plugin cuBLAS when one has already been registered\n",
      "W0000 00:00:1745869727.661457 3329821 computation_placer.cc:177] computation placer already registered. Please check linkage and avoid linking the same target more than once.\n",
      "W0000 00:00:1745869727.661489 3329821 computation_placer.cc:177] computation placer already registered. Please check linkage and avoid linking the same target more than once.\n",
      "W0000 00:00:1745869727.661491 3329821 computation_placer.cc:177] computation placer already registered. Please check linkage and avoid linking the same target more than once.\n",
      "W0000 00:00:1745869727.661494 3329821 computation_placer.cc:177] computation placer already registered. Please check linkage and avoid linking the same target more than once.\n",
      "2025-04-28 15:48:47.686680: I tensorflow/core/platform/cpu_feature_guard.cc:210] This TensorFlow binary is optimized to use available CPU instructions in performance-critical operations.\n",
      "To enable the following instructions: AVX2 FMA, in other operations, rebuild TensorFlow with the appropriate compiler flags.\n"
     ]
    }
   ],
   "source": [
    "import sys\n",
    "import os\n",
    "\n",
    "# Get the current working directory (where the notebook is running)\n",
    "SCRIPT_DIR = os.getcwd()  # or use os.path.dirname(os.path.abspath('')) for similar effect\n",
    "sys.path.append(os.path.dirname(SCRIPT_DIR))\n",
    "\n",
    "\n",
    "# Basic\n",
    "import numpy as np\n",
    "import numpy as np\n",
    "def dummy_npwarn_decorator_factory():\n",
    "  def npwarn_decorator(x):\n",
    "    return x\n",
    "  return npwarn_decorator\n",
    "np._no_nep50_warning = getattr(np, '_no_nep50_warning', dummy_npwarn_decorator_factory)\n",
    "import matplotlib.pyplot as plt\n",
    "\n",
    "# Dataset\n",
    "from keras.datasets import mnist\n",
    "\n",
    "# Evaluation\n",
    "from sklearn.metrics import adjusted_rand_score, normalized_mutual_info_score\n",
    "\n",
    "# Your SOM model\n",
    "from som import SOM\n"
   ]
  },
  {
   "cell_type": "code",
   "execution_count": 2,
   "id": "5088a89a-7c43-4b2e-9c5a-824eb68b7f2f",
   "metadata": {},
   "outputs": [
    {
     "name": "stdout",
     "output_type": "stream",
     "text": [
      "Downloading data from https://storage.googleapis.com/tensorflow/tf-keras-datasets/mnist.npz\n",
      "\u001b[1m11490434/11490434\u001b[0m \u001b[32m━━━━━━━━━━━━━━━━━━━━\u001b[0m\u001b[37m\u001b[0m \u001b[1m0s\u001b[0m 0us/step\n",
      "Train shape: (60000, 784)\n",
      "Test shape: (10000, 784)\n"
     ]
    }
   ],
   "source": [
    "# Load data\n",
    "(X_train, y_train), (X_test, y_test) = mnist.load_data()\n",
    "\n",
    "# Flatten images from (28,28) to (784,)\n",
    "X_train = X_train.reshape(-1, 28*28).astype(np.float32) / 255.0\n",
    "X_test = X_test.reshape(-1, 28*28).astype(np.float32) / 255.0\n",
    "\n",
    "print(\"Train shape:\", X_train.shape)\n",
    "print(\"Test shape:\", X_test.shape)\n"
   ]
  },
  {
   "cell_type": "code",
   "execution_count": 3,
   "id": "6c9014db-ff7e-47e6-8783-c3f1bb58e00c",
   "metadata": {},
   "outputs": [
    {
     "ename": "KeyboardInterrupt",
     "evalue": "",
     "output_type": "error",
     "traceback": [
      "\u001b[31m---------------------------------------------------------------------------\u001b[39m",
      "\u001b[31mKeyboardInterrupt\u001b[39m                         Traceback (most recent call last)",
      "\u001b[36mCell\u001b[39m\u001b[36m \u001b[39m\u001b[32mIn[3]\u001b[39m\u001b[32m, line 14\u001b[39m\n\u001b[32m      2\u001b[39m som = SOM(\n\u001b[32m      3\u001b[39m     lattice_rows=\u001b[32m5\u001b[39m,\n\u001b[32m      4\u001b[39m     lattice_columns=\u001b[32m5\u001b[39m,\n\u001b[32m   (...)\u001b[39m\u001b[32m     10\u001b[39m     verbose=\u001b[38;5;28;01mTrue\u001b[39;00m,\n\u001b[32m     11\u001b[39m )\n\u001b[32m     13\u001b[39m \u001b[38;5;66;03m# Fit SOM\u001b[39;00m\n\u001b[32m---> \u001b[39m\u001b[32m14\u001b[39m \u001b[43msom\u001b[49m\u001b[43m.\u001b[49m\u001b[43mfit\u001b[49m\u001b[43m(\u001b[49m\u001b[43mX_train\u001b[49m\u001b[43m)\u001b[49m\n",
      "\u001b[36mFile \u001b[39m\u001b[32m~/scikit-learn-som/env/lib64/python3.11/site-packages/sklearn/base.py:1389\u001b[39m, in \u001b[36m_fit_context.<locals>.decorator.<locals>.wrapper\u001b[39m\u001b[34m(estimator, *args, **kwargs)\u001b[39m\n\u001b[32m   1382\u001b[39m     estimator._validate_params()\n\u001b[32m   1384\u001b[39m \u001b[38;5;28;01mwith\u001b[39;00m config_context(\n\u001b[32m   1385\u001b[39m     skip_parameter_validation=(\n\u001b[32m   1386\u001b[39m         prefer_skip_nested_validation \u001b[38;5;129;01mor\u001b[39;00m global_skip_validation\n\u001b[32m   1387\u001b[39m     )\n\u001b[32m   1388\u001b[39m ):\n\u001b[32m-> \u001b[39m\u001b[32m1389\u001b[39m     \u001b[38;5;28;01mreturn\u001b[39;00m \u001b[43mfit_method\u001b[49m\u001b[43m(\u001b[49m\u001b[43mestimator\u001b[49m\u001b[43m,\u001b[49m\u001b[43m \u001b[49m\u001b[43m*\u001b[49m\u001b[43margs\u001b[49m\u001b[43m,\u001b[49m\u001b[43m \u001b[49m\u001b[43m*\u001b[49m\u001b[43m*\u001b[49m\u001b[43mkwargs\u001b[49m\u001b[43m)\u001b[49m\n",
      "\u001b[36mFile \u001b[39m\u001b[32m~/scikit-learn-som/som.py:171\u001b[39m, in \u001b[36mSOM.fit\u001b[39m\u001b[34m(self, X, y)\u001b[39m\n\u001b[32m    164\u001b[39m         \u001b[38;5;66;03m# if self.verbose:\u001b[39;00m\n\u001b[32m    165\u001b[39m         \u001b[38;5;66;03m#     print(f\"Updated: {lattice_weights[row_idx, column_idx]}\")\u001b[39;00m\n\u001b[32m    166\u001b[39m \n\u001b[32m    167\u001b[39m \n\u001b[32m    168\u001b[39m \u001b[38;5;66;03m# inertia = np.linalg.norm(X - lattice_weights)\u001b[39;00m\n\u001b[32m    169\u001b[39m flat_lattice = lattice_weights.reshape(-\u001b[32m1\u001b[39m, n_features)  \u001b[38;5;66;03m# (n_rows * n_cols, features)\u001b[39;00m\n\u001b[32m--> \u001b[39m\u001b[32m171\u001b[39m dists = \u001b[43mnp\u001b[49m\u001b[43m.\u001b[49m\u001b[43mlinalg\u001b[49m\u001b[43m.\u001b[49m\u001b[43mnorm\u001b[49m\u001b[43m(\u001b[49m\u001b[43mX\u001b[49m\u001b[43m[\u001b[49m\u001b[43m:\u001b[49m\u001b[43m,\u001b[49m\u001b[43m \u001b[49m\u001b[43mnp\u001b[49m\u001b[43m.\u001b[49m\u001b[43mnewaxis\u001b[49m\u001b[43m,\u001b[49m\u001b[43m \u001b[49m\u001b[43m:\u001b[49m\u001b[43m]\u001b[49m\u001b[43m \u001b[49m\u001b[43m-\u001b[49m\u001b[43m \u001b[49m\u001b[43mflat_lattice\u001b[49m\u001b[43m[\u001b[49m\u001b[43mnp\u001b[49m\u001b[43m.\u001b[49m\u001b[43mnewaxis\u001b[49m\u001b[43m,\u001b[49m\u001b[43m \u001b[49m\u001b[43m:\u001b[49m\u001b[43m,\u001b[49m\u001b[43m \u001b[49m\u001b[43m:\u001b[49m\u001b[43m]\u001b[49m\u001b[43m,\u001b[49m\u001b[43m \u001b[49m\u001b[43maxis\u001b[49m\u001b[43m=\u001b[49m\u001b[32;43m2\u001b[39;49m\u001b[43m)\u001b[49m  \u001b[38;5;66;03m# (num_points, num_units)\u001b[39;00m\n\u001b[32m    173\u001b[39m best_indices = np.argmin(dists, axis=\u001b[32m1\u001b[39m)  \u001b[38;5;66;03m# (num_points,)\u001b[39;00m\n\u001b[32m    174\u001b[39m rows = best_indices // \u001b[38;5;28mself\u001b[39m.lattice_columns\n",
      "\u001b[36mFile \u001b[39m\u001b[32m~/scikit-learn-som/env/lib64/python3.11/site-packages/numpy/linalg/_linalg.py:2620\u001b[39m, in \u001b[36m_norm_dispatcher\u001b[39m\u001b[34m(x, ord, axis, keepdims)\u001b[39m\n\u001b[32m   2616\u001b[39m     result = op(svd(y, compute_uv=\u001b[38;5;28;01mFalse\u001b[39;00m), axis=-\u001b[32m1\u001b[39m)\n\u001b[32m   2617\u001b[39m     \u001b[38;5;28;01mreturn\u001b[39;00m result\n\u001b[32m-> \u001b[39m\u001b[32m2620\u001b[39m \u001b[38;5;28;01mdef\u001b[39;00m\u001b[38;5;250m \u001b[39m\u001b[34m_norm_dispatcher\u001b[39m(x, \u001b[38;5;28mord\u001b[39m=\u001b[38;5;28;01mNone\u001b[39;00m, axis=\u001b[38;5;28;01mNone\u001b[39;00m, keepdims=\u001b[38;5;28;01mNone\u001b[39;00m):\n\u001b[32m   2621\u001b[39m     \u001b[38;5;28;01mreturn\u001b[39;00m (x,)\n\u001b[32m   2624\u001b[39m \u001b[38;5;129m@array_function_dispatch\u001b[39m(_norm_dispatcher)\n\u001b[32m   2625\u001b[39m \u001b[38;5;28;01mdef\u001b[39;00m\u001b[38;5;250m \u001b[39m\u001b[34mnorm\u001b[39m(x, \u001b[38;5;28mord\u001b[39m=\u001b[38;5;28;01mNone\u001b[39;00m, axis=\u001b[38;5;28;01mNone\u001b[39;00m, keepdims=\u001b[38;5;28;01mFalse\u001b[39;00m):\n",
      "\u001b[31mKeyboardInterrupt\u001b[39m: "
     ]
    }
   ],
   "source": [
    "# Initialize SOM\n",
    "som = SOM(\n",
    "    lattice_rows=5,\n",
    "    lattice_columns=5,\n",
    "    initial_learning_rate=0.5,\n",
    "    neighbourhood_radius=5,\n",
    "    max_iters=1000,\n",
    "    learning_rate_type=\"exponential\",\n",
    "    random_state=42,\n",
    "    verbose=True,\n",
    ")\n",
    "\n",
    "# Fit SOM\n",
    "som.fit(X_train)\n"
   ]
  },
  {
   "cell_type": "code",
   "execution_count": null,
   "id": "d18163b8-90be-4f19-bd3d-472b550a0692",
   "metadata": {},
   "outputs": [],
   "source": [
    "# Predict Best Matching Units (BMUs) for train and test\n",
    "train_bmus = som.predict(X_train)\n",
    "test_bmus = som.predict(X_test)\n",
    "\n",
    "print(\"Train BMUs shape:\", train_bmus.shape)\n",
    "print(\"Test BMUs shape:\", test_bmus.shape)\n"
   ]
  },
  {
   "cell_type": "code",
   "execution_count": null,
   "id": "2e0dfdbe-b82a-44d6-b8de-ba3dcd3f6c18",
   "metadata": {},
   "outputs": [],
   "source": [
    "# As SOM gives (row, col), we can map it to a single integer cluster ID\n",
    "def bmu_to_cluster_id(bmus, n_cols):\n",
    "    return np.array([row * n_cols + col for row, col in bmus])\n",
    "\n",
    "train_clusters = bmu_to_cluster_id(train_bmus, som.lattice_columns)\n",
    "test_clusters = bmu_to_cluster_id(test_bmus, som.lattice_columns)\n",
    "\n",
    "# Evaluate\n",
    "print(\"Train Adjusted Rand Index:\", adjusted_rand_score(y_train, train_clusters))\n",
    "print(\"Test Adjusted Rand Index:\", adjusted_rand_score(y_test, test_clusters))\n",
    "\n",
    "print(\"Train Normalized Mutual Information:\", normalized_mutual_info_score(y_train, train_clusters))\n",
    "print(\"Test Normalized Mutual Information:\", normalized_mutual_info_score(y_test, test_clusters))\n"
   ]
  },
  {
   "cell_type": "code",
   "execution_count": 4,
   "id": "687b3155-276d-4408-a272-1f06589b5748",
   "metadata": {},
   "outputs": [
    {
     "ename": "AttributeError",
     "evalue": "'SOM' object has no attribute 'weights_'",
     "output_type": "error",
     "traceback": [
      "\u001b[31m---------------------------------------------------------------------------\u001b[39m",
      "\u001b[31mAttributeError\u001b[39m                            Traceback (most recent call last)",
      "\u001b[36mCell\u001b[39m\u001b[36m \u001b[39m\u001b[32mIn[4]\u001b[39m\u001b[32m, line 6\u001b[39m\n\u001b[32m      4\u001b[39m pca = PCA(n_components=\u001b[32m2\u001b[39m)\n\u001b[32m      5\u001b[39m X_train_2d = pca.fit_transform(X_train)\n\u001b[32m----> \u001b[39m\u001b[32m6\u001b[39m grid_coords_2d = pca.transform(\u001b[43msom\u001b[49m\u001b[43m.\u001b[49m\u001b[43mweights_\u001b[49m.reshape(-\u001b[32m1\u001b[39m, \u001b[32m784\u001b[39m))\n\u001b[32m      8\u001b[39m plt.figure(figsize=(\u001b[32m8\u001b[39m, \u001b[32m6\u001b[39m))\n\u001b[32m      9\u001b[39m scatter = plt.scatter(X_train_2d[:, \u001b[32m0\u001b[39m], X_train_2d[:, \u001b[32m1\u001b[39m], c=som.labels_, cmap=\u001b[33m'\u001b[39m\u001b[33mviridis\u001b[39m\u001b[33m'\u001b[39m, edgecolor=\u001b[33m'\u001b[39m\u001b[33mk\u001b[39m\u001b[33m'\u001b[39m)\n",
      "\u001b[31mAttributeError\u001b[39m: 'SOM' object has no attribute 'weights_'"
     ]
    }
   ],
   "source": [
    "from sklearn.decomposition import PCA\n",
    "\n",
    "# Visualize test predictions\n",
    "pca = PCA(n_components=2)\n",
    "X_train_2d = pca.fit_transform(X_train)\n",
    "grid_coords_2d = pca.transform(som.weights_.reshape(-1, 784))\n",
    "\n",
    "plt.figure(figsize=(8, 6))\n",
    "scatter = plt.scatter(X_train_2d[:, 0], X_train_2d[:, 1], c=som.labels_, cmap='viridis', edgecolor='k')\n",
    "plt.scatter(grid_coords_2d[:, 0], grid_coords_2d[:, 1], c='red', marker='X')\n",
    "plt.title(\"SOM Clusters on Train Set (PCA reduced)\")\n",
    "plt.xlabel(\"PC1\")\n",
    "plt.ylabel(\"PC2\")\n",
    "plt.colorbar(scatter, label='Cluster')\n",
    "plt.show()"
   ]
  },
  {
   "cell_type": "code",
   "execution_count": null,
   "id": "4bc49d5c",
   "metadata": {},
   "outputs": [],
   "source": [
    "import matplotlib.pyplot as plt\n",
    "\n",
    "fig, axes = plt.subplots(5, 5, figsize=(10, 10))\n",
    "axes = axes.flatten()\n",
    "\n",
    "for ax, neuron_weights in zip(axes, som.weights_.reshape(-1, 784)):\n",
    "    img = neuron_weights.reshape(28, 28)\n",
    "    ax.imshow(img, cmap='gray')\n",
    "    ax.axis('off')\n",
    "\n",
    "plt.tight_layout()\n",
    "plt.show()"
   ]
  }
 ],
 "metadata": {
  "kernelspec": {
   "display_name": "Python 3 (ipykernel)",
   "language": "python",
   "name": "python3"
  },
  "language_info": {
   "codemirror_mode": {
    "name": "ipython",
    "version": 3
   },
   "file_extension": ".py",
   "mimetype": "text/x-python",
   "name": "python",
   "nbconvert_exporter": "python",
   "pygments_lexer": "ipython3",
   "version": "3.11.11"
  }
 },
 "nbformat": 4,
 "nbformat_minor": 5
}
